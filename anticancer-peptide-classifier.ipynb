{
  "nbformat": 4,
  "nbformat_minor": 0,
  "metadata": {
    "colab": {
      "provenance": [],
      "gpuType": "T4"
    },
    "kernelspec": {
      "name": "python3",
      "display_name": "Python 3"
    },
    "language_info": {
      "name": "python"
    },
    "accelerator": "GPU"
  },
  "cells": [
    {
      "cell_type": "markdown",
      "source": [
        "# Anti-Cancer Peptide Prediction with Machine Learning\n",
        "### University Machine Learning Intro Course: Final Project"
      ],
      "metadata": {
        "id": "qMu1a6cb27Dq"
      }
    },
    {
      "cell_type": "markdown",
      "source": [
        "This project uses peptide sequence data (in FASTA format) to train a binary classifier predicting anticancer peptide (ACP) activity. Data was provided in a course context and is not included here due to licensing."
      ],
      "metadata": {
        "id": "5c351fDe0Jq7"
      }
    },
    {
      "cell_type": "markdown",
      "source": [
        "## The Brief"
      ],
      "metadata": {
        "id": "mYNnzQ1r0Q4V"
      }
    },
    {
      "cell_type": "markdown",
      "source": [
        "Anticancer peptides (ACPs) are short chains of amino acids, typically 5 to 50\n",
        "residues long, that can selectively target and kill cancer cells while minimizing harm to normal cells. They often work by disrupting cancer cell membranes or triggering apoptosis and are less prone to resistance than traditional drugs. ACPs can be naturally derived or synthetically designed, making them promising candidates for targeted cancer therapies."
      ],
      "metadata": {
        "id": "DRRcLE5I60AQ"
      }
    },
    {
      "cell_type": "markdown",
      "source": [
        "In computational biology, ACPs are represented in the FASTA format using\n",
        "standard single-letter amino acid codes. With 20 standard amino acids, the\n",
        "number of possible sequences grows exponentially with length, making the\n",
        "identification and design of effective ACPs a complex but promising area of\n",
        "research."
      ],
      "metadata": {
        "id": "YVYHinBU7PCT"
      }
    },
    {
      "cell_type": "markdown",
      "source": [
        "In this project, I trained a model that predicts whether a peptide has anticancer activity based on its FASTA sequence. I trialled a few models which I discuss in the conclusion, and ultimately implemented a bidirectional GRU model in the final pipeline.\n",
        "\n",
        "I assessed AUC metrics ROC AUC and PR AUC, particularly focussing on the means across seeds and the standard deviation score of ROC AUC."
      ],
      "metadata": {
        "id": "X7KYu3Oz7fom"
      }
    },
    {
      "cell_type": "code",
      "execution_count": 5,
      "metadata": {
        "id": "2UfYrpQ9tdLm"
      },
      "outputs": [],
      "source": [
        "import os\n",
        "import random\n",
        "import numpy as np\n",
        "import pandas as pd\n",
        "import tensorflow as tf\n",
        "from sklearn.model_selection import train_test_split\n",
        "from sklearn.metrics import roc_auc_score, average_precision_score\n",
        "\n",
        "from tensorflow.keras.models import Sequential\n",
        "from tensorflow.keras.layers import Dense, Dropout, Bidirectional, GRU, BatchNormalization\n",
        "from tensorflow.keras.callbacks import EarlyStopping"
      ]
    },
    {
      "cell_type": "code",
      "source": [
        "# Parameters\n",
        "MAX_LEN = 50   # Verified in EDA\n",
        "ACIDS = \"ACDEFGHIKLMNPQRSTVWY\"   # The 20 amino acids present in the peptides\n",
        "BATCH_SIZE = 32\n",
        "EPOCHS = 15"
      ],
      "metadata": {
        "id": "Mh5ORmm1KFgF"
      },
      "execution_count": 6,
      "outputs": []
    },
    {
      "cell_type": "code",
      "source": [
        "# Set seeds for reproducibility\n",
        "def set_seeds(seed):\n",
        "  os.environ[\"PYTHONHASHSEED\"] = str(seed)\n",
        "  random.seed(seed)\n",
        "  np.random.seed(seed)\n",
        "  tf.random.set_seed(seed)\n",
        "  os.environ[\"TF_DETERMINISTIC_OPS\"] = \"1\""
      ],
      "metadata": {
        "id": "BwEdGdS1Hca7"
      },
      "execution_count": 7,
      "outputs": []
    },
    {
      "cell_type": "markdown",
      "source": [
        "## Data Loading and Exploration"
      ],
      "metadata": {
        "id": "SvfxgMe8nYWT"
      }
    },
    {
      "cell_type": "code",
      "source": [
        "# Uploading the data\n",
        "train = pd.read_csv(\"train.csv\")\n",
        "test = pd.read_csv(\"test.csv\")\n",
        "\n",
        "X = train[\"FASTA\"].values\n",
        "y = train[\"label\"].values\n",
        "\n",
        "X_test = test[\"FASTA\"].values\n",
        "y_test = test[\"label\"].values"
      ],
      "metadata": {
        "id": "6AqA_Cr39zyU"
      },
      "execution_count": 8,
      "outputs": []
    },
    {
      "cell_type": "code",
      "source": [
        "# Obtaining types and count\n",
        "train.info()"
      ],
      "metadata": {
        "id": "cGNGvg3aowXw",
        "colab": {
          "base_uri": "https://localhost:8080/"
        },
        "outputId": "0d883cec-8632-4752-8484-3b0d752ecab7"
      },
      "execution_count": 9,
      "outputs": [
        {
          "output_type": "stream",
          "name": "stdout",
          "text": [
            "<class 'pandas.core.frame.DataFrame'>\n",
            "RangeIndex: 2352 entries, 0 to 2351\n",
            "Data columns (total 2 columns):\n",
            " #   Column  Non-Null Count  Dtype \n",
            "---  ------  --------------  ----- \n",
            " 0   FASTA   2352 non-null   object\n",
            " 1   label   2352 non-null   int64 \n",
            "dtypes: int64(1), object(1)\n",
            "memory usage: 36.9+ KB\n"
          ]
        }
      ]
    },
    {
      "cell_type": "code",
      "source": [
        "# Obtaining types and count\n",
        "test.info()"
      ],
      "metadata": {
        "id": "CZmyE_nxo2xk",
        "colab": {
          "base_uri": "https://localhost:8080/"
        },
        "outputId": "65325a86-926b-40fd-9397-ff8ae37cbcd4"
      },
      "execution_count": 10,
      "outputs": [
        {
          "output_type": "stream",
          "name": "stdout",
          "text": [
            "<class 'pandas.core.frame.DataFrame'>\n",
            "RangeIndex: 3370 entries, 0 to 3369\n",
            "Data columns (total 2 columns):\n",
            " #   Column  Non-Null Count  Dtype \n",
            "---  ------  --------------  ----- \n",
            " 0   FASTA   3370 non-null   object\n",
            " 1   label   3370 non-null   int64 \n",
            "dtypes: int64(1), object(1)\n",
            "memory usage: 52.8+ KB\n"
          ]
        }
      ]
    },
    {
      "cell_type": "code",
      "source": [
        "# Assessing sequence lengths\n",
        "sequence_lengths = []\n",
        "for sequence in X:\n",
        "  sequence_lengths.append(len(sequence))\n",
        "\n",
        "pd.Series(sequence_lengths).describe()"
      ],
      "metadata": {
        "id": "RlAnQsYFo9yS",
        "colab": {
          "base_uri": "https://localhost:8080/",
          "height": 335
        },
        "outputId": "645fa874-de7c-450e-9599-78fd3ff5bd9a"
      },
      "execution_count": 11,
      "outputs": [
        {
          "output_type": "execute_result",
          "data": {
            "text/plain": [
              "count    2352.000000\n",
              "mean       24.230867\n",
              "std        10.239531\n",
              "min         6.000000\n",
              "25%        16.000000\n",
              "50%        22.000000\n",
              "75%        30.000000\n",
              "max        50.000000\n",
              "dtype: float64"
            ],
            "text/html": [
              "<div>\n",
              "<style scoped>\n",
              "    .dataframe tbody tr th:only-of-type {\n",
              "        vertical-align: middle;\n",
              "    }\n",
              "\n",
              "    .dataframe tbody tr th {\n",
              "        vertical-align: top;\n",
              "    }\n",
              "\n",
              "    .dataframe thead th {\n",
              "        text-align: right;\n",
              "    }\n",
              "</style>\n",
              "<table border=\"1\" class=\"dataframe\">\n",
              "  <thead>\n",
              "    <tr style=\"text-align: right;\">\n",
              "      <th></th>\n",
              "      <th>0</th>\n",
              "    </tr>\n",
              "  </thead>\n",
              "  <tbody>\n",
              "    <tr>\n",
              "      <th>count</th>\n",
              "      <td>2352.000000</td>\n",
              "    </tr>\n",
              "    <tr>\n",
              "      <th>mean</th>\n",
              "      <td>24.230867</td>\n",
              "    </tr>\n",
              "    <tr>\n",
              "      <th>std</th>\n",
              "      <td>10.239531</td>\n",
              "    </tr>\n",
              "    <tr>\n",
              "      <th>min</th>\n",
              "      <td>6.000000</td>\n",
              "    </tr>\n",
              "    <tr>\n",
              "      <th>25%</th>\n",
              "      <td>16.000000</td>\n",
              "    </tr>\n",
              "    <tr>\n",
              "      <th>50%</th>\n",
              "      <td>22.000000</td>\n",
              "    </tr>\n",
              "    <tr>\n",
              "      <th>75%</th>\n",
              "      <td>30.000000</td>\n",
              "    </tr>\n",
              "    <tr>\n",
              "      <th>max</th>\n",
              "      <td>50.000000</td>\n",
              "    </tr>\n",
              "  </tbody>\n",
              "</table>\n",
              "</div><br><label><b>dtype:</b> float64</label>"
            ]
          },
          "metadata": {},
          "execution_count": 11
        }
      ]
    },
    {
      "cell_type": "markdown",
      "source": [
        "## Encoding"
      ],
      "metadata": {
        "id": "T3aCRty4_rE9"
      }
    },
    {
      "cell_type": "code",
      "source": [
        "# One-hot encoding: encoding amino acids as integers\n",
        "def one_hot_encoder(sequence, length, acids=ACIDS):\n",
        "\n",
        "  # Indexes the string of the 20 amino acids present in peptide sequences\n",
        "  indexed_acids = {acid: i for i, acid in enumerate(acids)}\n",
        "\n",
        "  # A matrix of zeroes for encoding\n",
        "  encoding = np.zeros((length, len(acids)), dtype=np.float32) # Pad sequences to uniform length\n",
        "\n",
        "  # Fills a 1 in the matrix where the acid in the sequence matches the enumerated acids string\n",
        "  for i, acid in enumerate(sequence[:length]):\n",
        "    if acid in indexed_acids:\n",
        "      encoding[i, indexed_acids[acid]] = 1.0\n",
        "    else:\n",
        "      print(f\"Invalid sequence: {sequence}\")\n",
        "      break\n",
        "\n",
        "  return encoding"
      ],
      "metadata": {
        "id": "S6hGNuuIdU2Z"
      },
      "execution_count": 12,
      "outputs": []
    },
    {
      "cell_type": "markdown",
      "source": [
        "## Model Definition"
      ],
      "metadata": {
        "id": "0eQE1zrP_wuz"
      }
    },
    {
      "cell_type": "code",
      "source": [
        "# Bidirectional GRU\n",
        "def bidirect_GRU(input_shape):\n",
        "  model = Sequential([\n",
        "      Bidirectional(GRU(64, return_sequences=True), input_shape=input_shape),\n",
        "      Bidirectional(GRU(32, return_sequences=False)),\n",
        "      BatchNormalization(),\n",
        "      Dense(64, activation='relu'),\n",
        "      Dropout(0.3),\n",
        "      Dense(1, activation=\"sigmoid\")\n",
        "  ])\n",
        "  model.compile(optimizer=\"adam\", loss=\"binary_crossentropy\", metrics=[tf.keras.metrics.AUC(name=\"auc\"), tf.keras.metrics.AUC(name='pr_auc', curve='PR')])\n",
        "  return model"
      ],
      "metadata": {
        "id": "kz1DV82FAvFb"
      },
      "execution_count": 13,
      "outputs": []
    },
    {
      "cell_type": "markdown",
      "source": [
        "## Model Training"
      ],
      "metadata": {
        "id": "AJ2JFHAbcgCy"
      }
    },
    {
      "cell_type": "code",
      "source": [
        "roc_aucs = []\n",
        "pr_aucs = []\n",
        "\n",
        "X_enc = np.array([one_hot_encoder(seq, MAX_LEN) for seq in X])\n",
        "X_test_enc = np.array([one_hot_encoder(seq, MAX_LEN) for seq in X_test])\n",
        "\n",
        "for seed in range(1, 6):\n",
        "  set_seeds(seed)\n",
        "\n",
        "  X_train, X_val, y_train, y_val = train_test_split(X_enc, y, test_size=0.2, stratify=y, random_state=seed)\n",
        "\n",
        "  model = bidirect_GRU(input_shape=(MAX_LEN, len(ACIDS)))\n",
        "  early_stopping = EarlyStopping(monitor='val_auc', mode='max', patience=2, restore_best_weights=True)\n",
        "  model.fit(X_train, y_train, batch_size=BATCH_SIZE, epochs=EPOCHS, validation_data=(X_val, y_val), callbacks=[early_stopping])\n",
        "\n",
        "  y_pred = model.predict(X_test_enc)\n",
        "\n",
        "  roc = roc_auc_score(y_test, y_pred)\n",
        "  pr = average_precision_score(y_test, y_pred)\n",
        "\n",
        "  roc_aucs.append(roc)\n",
        "  pr_aucs.append(pr)\n",
        "\n",
        "  print(f\"Seed {seed} ROC AUC: {roc:.4f}, PR AUC: {pr:.4f}\")"
      ],
      "metadata": {
        "id": "GnbpW4NvcAU-",
        "colab": {
          "base_uri": "https://localhost:8080/"
        },
        "outputId": "9f8943d5-2a23-4ba7-d97c-83325953f2fe"
      },
      "execution_count": 14,
      "outputs": [
        {
          "output_type": "stream",
          "name": "stderr",
          "text": [
            "/usr/local/lib/python3.11/dist-packages/keras/src/layers/rnn/bidirectional.py:107: UserWarning: Do not pass an `input_shape`/`input_dim` argument to a layer. When using Sequential models, prefer using an `Input(shape)` object as the first layer in the model instead.\n",
            "  super().__init__(**kwargs)\n"
          ]
        },
        {
          "output_type": "stream",
          "name": "stdout",
          "text": [
            "Epoch 1/15\n",
            "\u001b[1m59/59\u001b[0m \u001b[32m━━━━━━━━━━━━━━━━━━━━\u001b[0m\u001b[37m\u001b[0m \u001b[1m11s\u001b[0m 41ms/step - auc: 0.6752 - loss: 0.6419 - pr_auc: 0.7001 - val_auc: 0.8130 - val_loss: 0.6588 - val_pr_auc: 0.8282\n",
            "Epoch 2/15\n",
            "\u001b[1m59/59\u001b[0m \u001b[32m━━━━━━━━━━━━━━━━━━━━\u001b[0m\u001b[37m\u001b[0m \u001b[1m5s\u001b[0m 19ms/step - auc: 0.8269 - loss: 0.5123 - pr_auc: 0.8381 - val_auc: 0.8569 - val_loss: 0.6993 - val_pr_auc: 0.8553\n",
            "Epoch 3/15\n",
            "\u001b[1m59/59\u001b[0m \u001b[32m━━━━━━━━━━━━━━━━━━━━\u001b[0m\u001b[37m\u001b[0m \u001b[1m1s\u001b[0m 24ms/step - auc: 0.8623 - loss: 0.4660 - pr_auc: 0.8681 - val_auc: 0.8656 - val_loss: 0.6190 - val_pr_auc: 0.8623\n",
            "Epoch 4/15\n",
            "\u001b[1m59/59\u001b[0m \u001b[32m━━━━━━━━━━━━━━━━━━━━\u001b[0m\u001b[37m\u001b[0m \u001b[1m3s\u001b[0m 33ms/step - auc: 0.8721 - loss: 0.4507 - pr_auc: 0.8757 - val_auc: 0.8790 - val_loss: 0.5542 - val_pr_auc: 0.8656\n",
            "Epoch 5/15\n",
            "\u001b[1m59/59\u001b[0m \u001b[32m━━━━━━━━━━━━━━━━━━━━\u001b[0m\u001b[37m\u001b[0m \u001b[1m2s\u001b[0m 40ms/step - auc: 0.8794 - loss: 0.4380 - pr_auc: 0.8842 - val_auc: 0.8791 - val_loss: 0.6175 - val_pr_auc: 0.8625\n",
            "Epoch 6/15\n",
            "\u001b[1m59/59\u001b[0m \u001b[32m━━━━━━━━━━━━━━━━━━━━\u001b[0m\u001b[37m\u001b[0m \u001b[1m3s\u001b[0m 56ms/step - auc: 0.8864 - loss: 0.4265 - pr_auc: 0.8896 - val_auc: 0.8776 - val_loss: 0.7850 - val_pr_auc: 0.8458\n",
            "Epoch 7/15\n",
            "\u001b[1m59/59\u001b[0m \u001b[32m━━━━━━━━━━━━━━━━━━━━\u001b[0m\u001b[37m\u001b[0m \u001b[1m2s\u001b[0m 29ms/step - auc: 0.8939 - loss: 0.4128 - pr_auc: 0.8995 - val_auc: 0.8833 - val_loss: 0.5185 - val_pr_auc: 0.8715\n",
            "Epoch 8/15\n",
            "\u001b[1m59/59\u001b[0m \u001b[32m━━━━━━━━━━━━━━━━━━━━\u001b[0m\u001b[37m\u001b[0m \u001b[1m2s\u001b[0m 18ms/step - auc: 0.9078 - loss: 0.3871 - pr_auc: 0.9120 - val_auc: 0.8722 - val_loss: 1.3535 - val_pr_auc: 0.8327\n",
            "Epoch 9/15\n",
            "\u001b[1m59/59\u001b[0m \u001b[32m━━━━━━━━━━━━━━━━━━━━\u001b[0m\u001b[37m\u001b[0m \u001b[1m1s\u001b[0m 18ms/step - auc: 0.9131 - loss: 0.3769 - pr_auc: 0.9184 - val_auc: 0.8803 - val_loss: 0.6560 - val_pr_auc: 0.8652\n",
            "\u001b[1m106/106\u001b[0m \u001b[32m━━━━━━━━━━━━━━━━━━━━\u001b[0m\u001b[37m\u001b[0m \u001b[1m1s\u001b[0m 8ms/step\n",
            "Seed 1 ROC AUC: 0.8573, PR AUC: 0.4776\n",
            "Epoch 1/15\n"
          ]
        },
        {
          "output_type": "stream",
          "name": "stderr",
          "text": [
            "/usr/local/lib/python3.11/dist-packages/keras/src/layers/rnn/bidirectional.py:107: UserWarning: Do not pass an `input_shape`/`input_dim` argument to a layer. When using Sequential models, prefer using an `Input(shape)` object as the first layer in the model instead.\n",
            "  super().__init__(**kwargs)\n"
          ]
        },
        {
          "output_type": "stream",
          "name": "stdout",
          "text": [
            "\u001b[1m59/59\u001b[0m \u001b[32m━━━━━━━━━━━━━━━━━━━━\u001b[0m\u001b[37m\u001b[0m \u001b[1m7s\u001b[0m 35ms/step - auc: 0.6895 - loss: 0.6675 - pr_auc: 0.6826 - val_auc: 0.7749 - val_loss: 0.6580 - val_pr_auc: 0.7756\n",
            "Epoch 2/15\n",
            "\u001b[1m59/59\u001b[0m \u001b[32m━━━━━━━━━━━━━━━━━━━━\u001b[0m\u001b[37m\u001b[0m \u001b[1m1s\u001b[0m 18ms/step - auc: 0.8277 - loss: 0.5135 - pr_auc: 0.8411 - val_auc: 0.8228 - val_loss: 0.6165 - val_pr_auc: 0.8005\n",
            "Epoch 3/15\n",
            "\u001b[1m59/59\u001b[0m \u001b[32m━━━━━━━━━━━━━━━━━━━━\u001b[0m\u001b[37m\u001b[0m \u001b[1m1s\u001b[0m 18ms/step - auc: 0.8665 - loss: 0.4565 - pr_auc: 0.8756 - val_auc: 0.8377 - val_loss: 0.6195 - val_pr_auc: 0.8112\n",
            "Epoch 4/15\n",
            "\u001b[1m59/59\u001b[0m \u001b[32m━━━━━━━━━━━━━━━━━━━━\u001b[0m\u001b[37m\u001b[0m \u001b[1m1s\u001b[0m 18ms/step - auc: 0.8750 - loss: 0.4431 - pr_auc: 0.8834 - val_auc: 0.8455 - val_loss: 0.6597 - val_pr_auc: 0.8205\n",
            "Epoch 5/15\n",
            "\u001b[1m59/59\u001b[0m \u001b[32m━━━━━━━━━━━━━━━━━━━━\u001b[0m\u001b[37m\u001b[0m \u001b[1m1s\u001b[0m 18ms/step - auc: 0.8854 - loss: 0.4280 - pr_auc: 0.8911 - val_auc: 0.8511 - val_loss: 0.6385 - val_pr_auc: 0.8300\n",
            "Epoch 6/15\n",
            "\u001b[1m59/59\u001b[0m \u001b[32m━━━━━━━━━━━━━━━━━━━━\u001b[0m\u001b[37m\u001b[0m \u001b[1m1s\u001b[0m 18ms/step - auc: 0.8888 - loss: 0.4239 - pr_auc: 0.8950 - val_auc: 0.8484 - val_loss: 0.6979 - val_pr_auc: 0.8235\n",
            "Epoch 7/15\n",
            "\u001b[1m59/59\u001b[0m \u001b[32m━━━━━━━━━━━━━━━━━━━━\u001b[0m\u001b[37m\u001b[0m \u001b[1m1s\u001b[0m 18ms/step - auc: 0.8983 - loss: 0.4066 - pr_auc: 0.9039 - val_auc: 0.8526 - val_loss: 0.7143 - val_pr_auc: 0.8287\n",
            "Epoch 8/15\n",
            "\u001b[1m59/59\u001b[0m \u001b[32m━━━━━━━━━━━━━━━━━━━━\u001b[0m\u001b[37m\u001b[0m \u001b[1m1s\u001b[0m 18ms/step - auc: 0.9082 - loss: 0.3846 - pr_auc: 0.9157 - val_auc: 0.8509 - val_loss: 0.6385 - val_pr_auc: 0.8290\n",
            "Epoch 9/15\n",
            "\u001b[1m59/59\u001b[0m \u001b[32m━━━━━━━━━━━━━━━━━━━━\u001b[0m\u001b[37m\u001b[0m \u001b[1m2s\u001b[0m 23ms/step - auc: 0.9072 - loss: 0.3870 - pr_auc: 0.9104 - val_auc: 0.8604 - val_loss: 0.5138 - val_pr_auc: 0.8352\n",
            "Epoch 10/15\n",
            "\u001b[1m59/59\u001b[0m \u001b[32m━━━━━━━━━━━━━━━━━━━━\u001b[0m\u001b[37m\u001b[0m \u001b[1m2s\u001b[0m 18ms/step - auc: 0.9147 - loss: 0.3734 - pr_auc: 0.9221 - val_auc: 0.8567 - val_loss: 0.5141 - val_pr_auc: 0.8377\n",
            "Epoch 11/15\n",
            "\u001b[1m59/59\u001b[0m \u001b[32m━━━━━━━━━━━━━━━━━━━━\u001b[0m\u001b[37m\u001b[0m \u001b[1m1s\u001b[0m 17ms/step - auc: 0.9177 - loss: 0.3638 - pr_auc: 0.9257 - val_auc: 0.8529 - val_loss: 0.5121 - val_pr_auc: 0.8351\n",
            "\u001b[1m106/106\u001b[0m \u001b[32m━━━━━━━━━━━━━━━━━━━━\u001b[0m\u001b[37m\u001b[0m \u001b[1m1s\u001b[0m 7ms/step\n",
            "Seed 2 ROC AUC: 0.8371, PR AUC: 0.4394\n",
            "Epoch 1/15\n"
          ]
        },
        {
          "output_type": "stream",
          "name": "stderr",
          "text": [
            "/usr/local/lib/python3.11/dist-packages/keras/src/layers/rnn/bidirectional.py:107: UserWarning: Do not pass an `input_shape`/`input_dim` argument to a layer. When using Sequential models, prefer using an `Input(shape)` object as the first layer in the model instead.\n",
            "  super().__init__(**kwargs)\n"
          ]
        },
        {
          "output_type": "stream",
          "name": "stdout",
          "text": [
            "\u001b[1m59/59\u001b[0m \u001b[32m━━━━━━━━━━━━━━━━━━━━\u001b[0m\u001b[37m\u001b[0m \u001b[1m6s\u001b[0m 33ms/step - auc: 0.6696 - loss: 0.6504 - pr_auc: 0.6855 - val_auc: 0.8189 - val_loss: 0.6620 - val_pr_auc: 0.8138\n",
            "Epoch 2/15\n",
            "\u001b[1m59/59\u001b[0m \u001b[32m━━━━━━━━━━━━━━━━━━━━\u001b[0m\u001b[37m\u001b[0m \u001b[1m2s\u001b[0m 27ms/step - auc: 0.8274 - loss: 0.5212 - pr_auc: 0.8311 - val_auc: 0.8633 - val_loss: 0.6282 - val_pr_auc: 0.8643\n",
            "Epoch 3/15\n",
            "\u001b[1m59/59\u001b[0m \u001b[32m━━━━━━━━━━━━━━━━━━━━\u001b[0m\u001b[37m\u001b[0m \u001b[1m1s\u001b[0m 22ms/step - auc: 0.8714 - loss: 0.4514 - pr_auc: 0.8778 - val_auc: 0.8683 - val_loss: 0.6118 - val_pr_auc: 0.8641\n",
            "Epoch 4/15\n",
            "\u001b[1m59/59\u001b[0m \u001b[32m━━━━━━━━━━━━━━━━━━━━\u001b[0m\u001b[37m\u001b[0m \u001b[1m1s\u001b[0m 18ms/step - auc: 0.8870 - loss: 0.4301 - pr_auc: 0.8922 - val_auc: 0.8735 - val_loss: 0.5444 - val_pr_auc: 0.8749\n",
            "Epoch 5/15\n",
            "\u001b[1m59/59\u001b[0m \u001b[32m━━━━━━━━━━━━━━━━━━━━\u001b[0m\u001b[37m\u001b[0m \u001b[1m1s\u001b[0m 18ms/step - auc: 0.8973 - loss: 0.4100 - pr_auc: 0.9018 - val_auc: 0.8764 - val_loss: 0.5030 - val_pr_auc: 0.8781\n",
            "Epoch 6/15\n",
            "\u001b[1m59/59\u001b[0m \u001b[32m━━━━━━━━━━━━━━━━━━━━\u001b[0m\u001b[37m\u001b[0m \u001b[1m1s\u001b[0m 18ms/step - auc: 0.9031 - loss: 0.3989 - pr_auc: 0.9056 - val_auc: 0.8667 - val_loss: 0.5011 - val_pr_auc: 0.8686\n",
            "Epoch 7/15\n",
            "\u001b[1m59/59\u001b[0m \u001b[32m━━━━━━━━━━━━━━━━━━━━\u001b[0m\u001b[37m\u001b[0m \u001b[1m1s\u001b[0m 17ms/step - auc: 0.9107 - loss: 0.3845 - pr_auc: 0.9155 - val_auc: 0.8718 - val_loss: 0.4902 - val_pr_auc: 0.8760\n",
            "\u001b[1m106/106\u001b[0m \u001b[32m━━━━━━━━━━━━━━━━━━━━\u001b[0m\u001b[37m\u001b[0m \u001b[1m1s\u001b[0m 8ms/step\n",
            "Seed 3 ROC AUC: 0.8475, PR AUC: 0.4497\n",
            "Epoch 1/15\n"
          ]
        },
        {
          "output_type": "stream",
          "name": "stderr",
          "text": [
            "/usr/local/lib/python3.11/dist-packages/keras/src/layers/rnn/bidirectional.py:107: UserWarning: Do not pass an `input_shape`/`input_dim` argument to a layer. When using Sequential models, prefer using an `Input(shape)` object as the first layer in the model instead.\n",
            "  super().__init__(**kwargs)\n"
          ]
        },
        {
          "output_type": "stream",
          "name": "stdout",
          "text": [
            "\u001b[1m59/59\u001b[0m \u001b[32m━━━━━━━━━━━━━━━━━━━━\u001b[0m\u001b[37m\u001b[0m \u001b[1m7s\u001b[0m 33ms/step - auc: 0.7025 - loss: 0.6313 - pr_auc: 0.7015 - val_auc: 0.7920 - val_loss: 0.6669 - val_pr_auc: 0.8157\n",
            "Epoch 2/15\n",
            "\u001b[1m59/59\u001b[0m \u001b[32m━━━━━━━━━━━━━━━━━━━━\u001b[0m\u001b[37m\u001b[0m \u001b[1m1s\u001b[0m 18ms/step - auc: 0.8221 - loss: 0.5202 - pr_auc: 0.8307 - val_auc: 0.8484 - val_loss: 0.6284 - val_pr_auc: 0.8518\n",
            "Epoch 3/15\n",
            "\u001b[1m59/59\u001b[0m \u001b[32m━━━━━━━━━━━━━━━━━━━━\u001b[0m\u001b[37m\u001b[0m \u001b[1m1s\u001b[0m 17ms/step - auc: 0.8670 - loss: 0.4563 - pr_auc: 0.8751 - val_auc: 0.8760 - val_loss: 0.5689 - val_pr_auc: 0.8753\n",
            "Epoch 4/15\n",
            "\u001b[1m59/59\u001b[0m \u001b[32m━━━━━━━━━━━━━━━━━━━━\u001b[0m\u001b[37m\u001b[0m \u001b[1m1s\u001b[0m 18ms/step - auc: 0.8846 - loss: 0.4328 - pr_auc: 0.8873 - val_auc: 0.8877 - val_loss: 0.5306 - val_pr_auc: 0.8863\n",
            "Epoch 5/15\n",
            "\u001b[1m59/59\u001b[0m \u001b[32m━━━━━━━━━━━━━━━━━━━━\u001b[0m\u001b[37m\u001b[0m \u001b[1m1s\u001b[0m 18ms/step - auc: 0.8965 - loss: 0.4091 - pr_auc: 0.8981 - val_auc: 0.8873 - val_loss: 0.4733 - val_pr_auc: 0.8898\n",
            "Epoch 6/15\n",
            "\u001b[1m59/59\u001b[0m \u001b[32m━━━━━━━━━━━━━━━━━━━━\u001b[0m\u001b[37m\u001b[0m \u001b[1m1s\u001b[0m 18ms/step - auc: 0.8969 - loss: 0.4104 - pr_auc: 0.8975 - val_auc: 0.8938 - val_loss: 0.4506 - val_pr_auc: 0.8965\n",
            "Epoch 7/15\n",
            "\u001b[1m59/59\u001b[0m \u001b[32m━━━━━━━━━━━━━━━━━━━━\u001b[0m\u001b[37m\u001b[0m \u001b[1m1s\u001b[0m 18ms/step - auc: 0.9064 - loss: 0.3883 - pr_auc: 0.9062 - val_auc: 0.8915 - val_loss: 0.4565 - val_pr_auc: 0.8931\n",
            "Epoch 8/15\n",
            "\u001b[1m59/59\u001b[0m \u001b[32m━━━━━━━━━━━━━━━━━━━━\u001b[0m\u001b[37m\u001b[0m \u001b[1m1s\u001b[0m 18ms/step - auc: 0.9054 - loss: 0.3928 - pr_auc: 0.9055 - val_auc: 0.8930 - val_loss: 0.4242 - val_pr_auc: 0.8957\n",
            "\u001b[1m106/106\u001b[0m \u001b[32m━━━━━━━━━━━━━━━━━━━━\u001b[0m\u001b[37m\u001b[0m \u001b[1m1s\u001b[0m 10ms/step\n",
            "Seed 4 ROC AUC: 0.8293, PR AUC: 0.4179\n",
            "Epoch 1/15\n"
          ]
        },
        {
          "output_type": "stream",
          "name": "stderr",
          "text": [
            "/usr/local/lib/python3.11/dist-packages/keras/src/layers/rnn/bidirectional.py:107: UserWarning: Do not pass an `input_shape`/`input_dim` argument to a layer. When using Sequential models, prefer using an `Input(shape)` object as the first layer in the model instead.\n",
            "  super().__init__(**kwargs)\n"
          ]
        },
        {
          "output_type": "stream",
          "name": "stdout",
          "text": [
            "\u001b[1m59/59\u001b[0m \u001b[32m━━━━━━━━━━━━━━━━━━━━\u001b[0m\u001b[37m\u001b[0m \u001b[1m6s\u001b[0m 35ms/step - auc: 0.7121 - loss: 0.6202 - pr_auc: 0.7085 - val_auc: 0.7866 - val_loss: 0.6703 - val_pr_auc: 0.7832\n",
            "Epoch 2/15\n",
            "\u001b[1m59/59\u001b[0m \u001b[32m━━━━━━━━━━━━━━━━━━━━\u001b[0m\u001b[37m\u001b[0m \u001b[1m1s\u001b[0m 25ms/step - auc: 0.8461 - loss: 0.4940 - pr_auc: 0.8488 - val_auc: 0.8169 - val_loss: 0.6568 - val_pr_auc: 0.8038\n",
            "Epoch 3/15\n",
            "\u001b[1m59/59\u001b[0m \u001b[32m━━━━━━━━━━━━━━━━━━━━\u001b[0m\u001b[37m\u001b[0m \u001b[1m1s\u001b[0m 17ms/step - auc: 0.8828 - loss: 0.4349 - pr_auc: 0.8866 - val_auc: 0.8481 - val_loss: 0.6124 - val_pr_auc: 0.8340\n",
            "Epoch 4/15\n",
            "\u001b[1m59/59\u001b[0m \u001b[32m━━━━━━━━━━━━━━━━━━━━\u001b[0m\u001b[37m\u001b[0m \u001b[1m1s\u001b[0m 21ms/step - auc: 0.8933 - loss: 0.4151 - pr_auc: 0.8942 - val_auc: 0.8509 - val_loss: 0.5832 - val_pr_auc: 0.8365\n",
            "Epoch 5/15\n",
            "\u001b[1m59/59\u001b[0m \u001b[32m━━━━━━━━━━━━━━━━━━━━\u001b[0m\u001b[37m\u001b[0m \u001b[1m2s\u001b[0m 27ms/step - auc: 0.9044 - loss: 0.3927 - pr_auc: 0.9096 - val_auc: 0.8427 - val_loss: 0.5586 - val_pr_auc: 0.8241\n",
            "Epoch 6/15\n",
            "\u001b[1m59/59\u001b[0m \u001b[32m━━━━━━━━━━━━━━━━━━━━\u001b[0m\u001b[37m\u001b[0m \u001b[1m1s\u001b[0m 18ms/step - auc: 0.9043 - loss: 0.3931 - pr_auc: 0.9063 - val_auc: 0.8382 - val_loss: 0.5487 - val_pr_auc: 0.8112\n",
            "\u001b[1m106/106\u001b[0m \u001b[32m━━━━━━━━━━━━━━━━━━━━\u001b[0m\u001b[37m\u001b[0m \u001b[1m1s\u001b[0m 7ms/step\n",
            "Seed 5 ROC AUC: 0.8376, PR AUC: 0.4609\n"
          ]
        }
      ]
    },
    {
      "cell_type": "markdown",
      "source": [
        "### ROC AUC and PR AUC"
      ],
      "metadata": {
        "id": "QXWm7HaE_99L"
      }
    },
    {
      "cell_type": "markdown",
      "source": [
        "The model accuracy requirements are as follows:\n",
        "\n",
        "*   Mean ROC AUC ≥ 0.83\n",
        "*   Std ROC AUC ≤ 0.015\n",
        "*   Mean PR AUC ≥ 0.43"
      ],
      "metadata": {
        "id": "tIEiix1shNSa"
      }
    },
    {
      "cell_type": "code",
      "source": [
        "# Mean and standard deviation scores\n",
        "headings = [\"ROC AUC\", \"PR AUC\"]\n",
        "roc_auc_scores = [np.mean(roc_aucs), np.std(roc_aucs)]\n",
        "pr_auc_scores = [np.mean(pr_aucs), np.std(pr_aucs)]\n",
        "pd.DataFrame([roc_auc_scores, pr_auc_scores], columns=[\"Mean\", \"Standard Deviation\"], index=headings)"
      ],
      "metadata": {
        "id": "KXDM3JkQ3Sc2",
        "colab": {
          "base_uri": "https://localhost:8080/",
          "height": 112
        },
        "outputId": "6b8d9072-45c6-47a6-a675-097585a04e36"
      },
      "execution_count": 15,
      "outputs": [
        {
          "output_type": "execute_result",
          "data": {
            "text/plain": [
              "             Mean  Standard Deviation\n",
              "ROC AUC  0.841761            0.009650\n",
              "PR AUC   0.449067            0.020093"
            ],
            "text/html": [
              "\n",
              "  <div id=\"df-0eea390f-b439-49ac-b30f-7f3f7e367242\" class=\"colab-df-container\">\n",
              "    <div>\n",
              "<style scoped>\n",
              "    .dataframe tbody tr th:only-of-type {\n",
              "        vertical-align: middle;\n",
              "    }\n",
              "\n",
              "    .dataframe tbody tr th {\n",
              "        vertical-align: top;\n",
              "    }\n",
              "\n",
              "    .dataframe thead th {\n",
              "        text-align: right;\n",
              "    }\n",
              "</style>\n",
              "<table border=\"1\" class=\"dataframe\">\n",
              "  <thead>\n",
              "    <tr style=\"text-align: right;\">\n",
              "      <th></th>\n",
              "      <th>Mean</th>\n",
              "      <th>Standard Deviation</th>\n",
              "    </tr>\n",
              "  </thead>\n",
              "  <tbody>\n",
              "    <tr>\n",
              "      <th>ROC AUC</th>\n",
              "      <td>0.841761</td>\n",
              "      <td>0.009650</td>\n",
              "    </tr>\n",
              "    <tr>\n",
              "      <th>PR AUC</th>\n",
              "      <td>0.449067</td>\n",
              "      <td>0.020093</td>\n",
              "    </tr>\n",
              "  </tbody>\n",
              "</table>\n",
              "</div>\n",
              "    <div class=\"colab-df-buttons\">\n",
              "\n",
              "  <div class=\"colab-df-container\">\n",
              "    <button class=\"colab-df-convert\" onclick=\"convertToInteractive('df-0eea390f-b439-49ac-b30f-7f3f7e367242')\"\n",
              "            title=\"Convert this dataframe to an interactive table.\"\n",
              "            style=\"display:none;\">\n",
              "\n",
              "  <svg xmlns=\"http://www.w3.org/2000/svg\" height=\"24px\" viewBox=\"0 -960 960 960\">\n",
              "    <path d=\"M120-120v-720h720v720H120Zm60-500h600v-160H180v160Zm220 220h160v-160H400v160Zm0 220h160v-160H400v160ZM180-400h160v-160H180v160Zm440 0h160v-160H620v160ZM180-180h160v-160H180v160Zm440 0h160v-160H620v160Z\"/>\n",
              "  </svg>\n",
              "    </button>\n",
              "\n",
              "  <style>\n",
              "    .colab-df-container {\n",
              "      display:flex;\n",
              "      gap: 12px;\n",
              "    }\n",
              "\n",
              "    .colab-df-convert {\n",
              "      background-color: #E8F0FE;\n",
              "      border: none;\n",
              "      border-radius: 50%;\n",
              "      cursor: pointer;\n",
              "      display: none;\n",
              "      fill: #1967D2;\n",
              "      height: 32px;\n",
              "      padding: 0 0 0 0;\n",
              "      width: 32px;\n",
              "    }\n",
              "\n",
              "    .colab-df-convert:hover {\n",
              "      background-color: #E2EBFA;\n",
              "      box-shadow: 0px 1px 2px rgba(60, 64, 67, 0.3), 0px 1px 3px 1px rgba(60, 64, 67, 0.15);\n",
              "      fill: #174EA6;\n",
              "    }\n",
              "\n",
              "    .colab-df-buttons div {\n",
              "      margin-bottom: 4px;\n",
              "    }\n",
              "\n",
              "    [theme=dark] .colab-df-convert {\n",
              "      background-color: #3B4455;\n",
              "      fill: #D2E3FC;\n",
              "    }\n",
              "\n",
              "    [theme=dark] .colab-df-convert:hover {\n",
              "      background-color: #434B5C;\n",
              "      box-shadow: 0px 1px 3px 1px rgba(0, 0, 0, 0.15);\n",
              "      filter: drop-shadow(0px 1px 2px rgba(0, 0, 0, 0.3));\n",
              "      fill: #FFFFFF;\n",
              "    }\n",
              "  </style>\n",
              "\n",
              "    <script>\n",
              "      const buttonEl =\n",
              "        document.querySelector('#df-0eea390f-b439-49ac-b30f-7f3f7e367242 button.colab-df-convert');\n",
              "      buttonEl.style.display =\n",
              "        google.colab.kernel.accessAllowed ? 'block' : 'none';\n",
              "\n",
              "      async function convertToInteractive(key) {\n",
              "        const element = document.querySelector('#df-0eea390f-b439-49ac-b30f-7f3f7e367242');\n",
              "        const dataTable =\n",
              "          await google.colab.kernel.invokeFunction('convertToInteractive',\n",
              "                                                    [key], {});\n",
              "        if (!dataTable) return;\n",
              "\n",
              "        const docLinkHtml = 'Like what you see? Visit the ' +\n",
              "          '<a target=\"_blank\" href=https://colab.research.google.com/notebooks/data_table.ipynb>data table notebook</a>'\n",
              "          + ' to learn more about interactive tables.';\n",
              "        element.innerHTML = '';\n",
              "        dataTable['output_type'] = 'display_data';\n",
              "        await google.colab.output.renderOutput(dataTable, element);\n",
              "        const docLink = document.createElement('div');\n",
              "        docLink.innerHTML = docLinkHtml;\n",
              "        element.appendChild(docLink);\n",
              "      }\n",
              "    </script>\n",
              "  </div>\n",
              "\n",
              "\n",
              "    <div id=\"df-3d6c2ba9-7402-4a21-a7a9-f41ae7b5a620\">\n",
              "      <button class=\"colab-df-quickchart\" onclick=\"quickchart('df-3d6c2ba9-7402-4a21-a7a9-f41ae7b5a620')\"\n",
              "                title=\"Suggest charts\"\n",
              "                style=\"display:none;\">\n",
              "\n",
              "<svg xmlns=\"http://www.w3.org/2000/svg\" height=\"24px\"viewBox=\"0 0 24 24\"\n",
              "     width=\"24px\">\n",
              "    <g>\n",
              "        <path d=\"M19 3H5c-1.1 0-2 .9-2 2v14c0 1.1.9 2 2 2h14c1.1 0 2-.9 2-2V5c0-1.1-.9-2-2-2zM9 17H7v-7h2v7zm4 0h-2V7h2v10zm4 0h-2v-4h2v4z\"/>\n",
              "    </g>\n",
              "</svg>\n",
              "      </button>\n",
              "\n",
              "<style>\n",
              "  .colab-df-quickchart {\n",
              "      --bg-color: #E8F0FE;\n",
              "      --fill-color: #1967D2;\n",
              "      --hover-bg-color: #E2EBFA;\n",
              "      --hover-fill-color: #174EA6;\n",
              "      --disabled-fill-color: #AAA;\n",
              "      --disabled-bg-color: #DDD;\n",
              "  }\n",
              "\n",
              "  [theme=dark] .colab-df-quickchart {\n",
              "      --bg-color: #3B4455;\n",
              "      --fill-color: #D2E3FC;\n",
              "      --hover-bg-color: #434B5C;\n",
              "      --hover-fill-color: #FFFFFF;\n",
              "      --disabled-bg-color: #3B4455;\n",
              "      --disabled-fill-color: #666;\n",
              "  }\n",
              "\n",
              "  .colab-df-quickchart {\n",
              "    background-color: var(--bg-color);\n",
              "    border: none;\n",
              "    border-radius: 50%;\n",
              "    cursor: pointer;\n",
              "    display: none;\n",
              "    fill: var(--fill-color);\n",
              "    height: 32px;\n",
              "    padding: 0;\n",
              "    width: 32px;\n",
              "  }\n",
              "\n",
              "  .colab-df-quickchart:hover {\n",
              "    background-color: var(--hover-bg-color);\n",
              "    box-shadow: 0 1px 2px rgba(60, 64, 67, 0.3), 0 1px 3px 1px rgba(60, 64, 67, 0.15);\n",
              "    fill: var(--button-hover-fill-color);\n",
              "  }\n",
              "\n",
              "  .colab-df-quickchart-complete:disabled,\n",
              "  .colab-df-quickchart-complete:disabled:hover {\n",
              "    background-color: var(--disabled-bg-color);\n",
              "    fill: var(--disabled-fill-color);\n",
              "    box-shadow: none;\n",
              "  }\n",
              "\n",
              "  .colab-df-spinner {\n",
              "    border: 2px solid var(--fill-color);\n",
              "    border-color: transparent;\n",
              "    border-bottom-color: var(--fill-color);\n",
              "    animation:\n",
              "      spin 1s steps(1) infinite;\n",
              "  }\n",
              "\n",
              "  @keyframes spin {\n",
              "    0% {\n",
              "      border-color: transparent;\n",
              "      border-bottom-color: var(--fill-color);\n",
              "      border-left-color: var(--fill-color);\n",
              "    }\n",
              "    20% {\n",
              "      border-color: transparent;\n",
              "      border-left-color: var(--fill-color);\n",
              "      border-top-color: var(--fill-color);\n",
              "    }\n",
              "    30% {\n",
              "      border-color: transparent;\n",
              "      border-left-color: var(--fill-color);\n",
              "      border-top-color: var(--fill-color);\n",
              "      border-right-color: var(--fill-color);\n",
              "    }\n",
              "    40% {\n",
              "      border-color: transparent;\n",
              "      border-right-color: var(--fill-color);\n",
              "      border-top-color: var(--fill-color);\n",
              "    }\n",
              "    60% {\n",
              "      border-color: transparent;\n",
              "      border-right-color: var(--fill-color);\n",
              "    }\n",
              "    80% {\n",
              "      border-color: transparent;\n",
              "      border-right-color: var(--fill-color);\n",
              "      border-bottom-color: var(--fill-color);\n",
              "    }\n",
              "    90% {\n",
              "      border-color: transparent;\n",
              "      border-bottom-color: var(--fill-color);\n",
              "    }\n",
              "  }\n",
              "</style>\n",
              "\n",
              "      <script>\n",
              "        async function quickchart(key) {\n",
              "          const quickchartButtonEl =\n",
              "            document.querySelector('#' + key + ' button');\n",
              "          quickchartButtonEl.disabled = true;  // To prevent multiple clicks.\n",
              "          quickchartButtonEl.classList.add('colab-df-spinner');\n",
              "          try {\n",
              "            const charts = await google.colab.kernel.invokeFunction(\n",
              "                'suggestCharts', [key], {});\n",
              "          } catch (error) {\n",
              "            console.error('Error during call to suggestCharts:', error);\n",
              "          }\n",
              "          quickchartButtonEl.classList.remove('colab-df-spinner');\n",
              "          quickchartButtonEl.classList.add('colab-df-quickchart-complete');\n",
              "        }\n",
              "        (() => {\n",
              "          let quickchartButtonEl =\n",
              "            document.querySelector('#df-3d6c2ba9-7402-4a21-a7a9-f41ae7b5a620 button');\n",
              "          quickchartButtonEl.style.display =\n",
              "            google.colab.kernel.accessAllowed ? 'block' : 'none';\n",
              "        })();\n",
              "      </script>\n",
              "    </div>\n",
              "\n",
              "    </div>\n",
              "  </div>\n"
            ],
            "application/vnd.google.colaboratory.intrinsic+json": {
              "type": "dataframe",
              "summary": "{\n  \"name\": \"pd\",\n  \"rows\": 2,\n  \"fields\": [\n    {\n      \"column\": \"Mean\",\n      \"properties\": {\n        \"dtype\": \"number\",\n        \"std\": 0.27767675020809524,\n        \"min\": 0.44906688105136794,\n        \"max\": 0.8417611071513423,\n        \"num_unique_values\": 2,\n        \"samples\": [\n          0.44906688105136794,\n          0.8417611071513423\n        ],\n        \"semantic_type\": \"\",\n        \"description\": \"\"\n      }\n    },\n    {\n      \"column\": \"Standard Deviation\",\n      \"properties\": {\n        \"dtype\": \"number\",\n        \"std\": 0.007384528712810585,\n        \"min\": 0.00964992893941634,\n        \"max\": 0.020093229596806605,\n        \"num_unique_values\": 2,\n        \"samples\": [\n          0.020093229596806605,\n          0.00964992893941634\n        ],\n        \"semantic_type\": \"\",\n        \"description\": \"\"\n      }\n    }\n  ]\n}"
            }
          },
          "metadata": {},
          "execution_count": 15
        }
      ]
    },
    {
      "cell_type": "markdown",
      "source": [
        "## Conclusion"
      ],
      "metadata": {
        "id": "ZQ4DcstAe_tJ"
      }
    },
    {
      "cell_type": "markdown",
      "source": [
        "### Model Choice"
      ],
      "metadata": {
        "id": "Deqb3_Nkk1ab"
      }
    },
    {
      "cell_type": "markdown",
      "source": [
        "Initially, I implemented a 1D CNN model due to its use in detecting local patterns in sequences, but it failed to exceed a mean ROC AUC of 0.83 across 5 seeds despite tuning (kernel size, filter count) and the addition of layers. On paper, a 1D CNN model sounded highly applicable to my task, but in retrospect, it likely suffered from memory limitations and highly localised pattern seeking rather than a more global approach.\n",
        "\n",
        "I implemented a simple RNN next using only a single bidirectional GRU layer and adding a second when the metrics fell just shy of the requirements. Bidirectional GRUs are highly sequence-aware, position-sensitive, and have greater memory capacity making them well-suited to capturing meaningful patterns in the sequences. Implementing multiple `Bidirectional(GRU())` layers, and a `BatchNormalisation()` layer, was enough to push mean AUC scores over the mark while minimising standard deviation.\n",
        "\n",
        "In the interest of improving metrics further, I tried a hybrid version of my two models, combining `Conv1D()` with `Bidirectional(GRU())`, but while the difference in means was negligible, the added complexity substantially increased standard deviation beyond the ≤ 0.015 requirement."
      ],
      "metadata": {
        "id": "04qVu01thZUr"
      }
    },
    {
      "cell_type": "markdown",
      "source": [
        "### Encoding"
      ],
      "metadata": {
        "id": "sMOxLXiMph_k"
      }
    },
    {
      "cell_type": "markdown",
      "source": [
        "I used one-hot encoding because of its simplicity and suitability to simple fixed-length sequences, but with the implementation of an RNN, embedding would have been the more logical option. It would be the first thing I alter about the pipeline in terms of future direction, to see if the relational and adaptive characteristics of embedding improve model performance. That greater contextual awareness would allow for generalisation, treating acids within peptide sequences as interrelated, rather than distinct from one another as one-hot encoding does."
      ],
      "metadata": {
        "id": "5oFKtuXupj4o"
      }
    }
  ]
}